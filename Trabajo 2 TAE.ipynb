{
 "cells": [
  {
   "cell_type": "markdown",
   "metadata": {},
   "source": [
    "### Importación de librerías y archivos\n",
    "En las siguientes líneas de código se importaran los materiales de trabajo necesarios para desarrollar el caso de uso, en esto se incluyen las librerías y los datos"
   ]
  },
  {
   "cell_type": "code",
   "execution_count": 1,
   "metadata": {},
   "outputs": [],
   "source": [
    "# Importar las librerías necesarias según el análisis que se vaya a realizar\n",
    "# Librería para comando de sistema\n",
    "import os\n",
    "# Librería para manejo de datos\n",
    "import pandas as pd\n",
    "# Librería para manejo de fechas\n",
    "from datetime import date"
   ]
  },
  {
   "cell_type": "code",
   "execution_count": 2,
   "metadata": {
    "scrolled": false
   },
   "outputs": [
    {
     "name": "stderr",
     "output_type": "stream",
     "text": [
      "C:\\Users\\Edwar\\AppData\\Local\\Temp\\ipykernel_16736\\111207929.py:2: DtypeWarning: Columns (19) have mixed types. Specify dtype option on import or set low_memory=False.\n",
      "  data= pd.read_csv('loan_data_2007_2014.csv', sep=',',encoding='latin-1')\n"
     ]
    },
    {
     "data": {
      "text/html": [
       "<div>\n",
       "<style scoped>\n",
       "    .dataframe tbody tr th:only-of-type {\n",
       "        vertical-align: middle;\n",
       "    }\n",
       "\n",
       "    .dataframe tbody tr th {\n",
       "        vertical-align: top;\n",
       "    }\n",
       "\n",
       "    .dataframe thead th {\n",
       "        text-align: right;\n",
       "    }\n",
       "</style>\n",
       "<table border=\"1\" class=\"dataframe\">\n",
       "  <thead>\n",
       "    <tr style=\"text-align: right;\">\n",
       "      <th></th>\n",
       "      <th>id</th>\n",
       "      <th>member_id</th>\n",
       "      <th>loan_amnt</th>\n",
       "      <th>funded_amnt</th>\n",
       "      <th>funded_amnt_inv</th>\n",
       "      <th>term</th>\n",
       "      <th>int_rate</th>\n",
       "      <th>installment</th>\n",
       "      <th>grade</th>\n",
       "      <th>sub_grade</th>\n",
       "      <th>...</th>\n",
       "      <th>total_bal_il</th>\n",
       "      <th>il_util</th>\n",
       "      <th>open_rv_12m</th>\n",
       "      <th>open_rv_24m</th>\n",
       "      <th>max_bal_bc</th>\n",
       "      <th>all_util</th>\n",
       "      <th>total_rev_hi_lim</th>\n",
       "      <th>inq_fi</th>\n",
       "      <th>total_cu_tl</th>\n",
       "      <th>inq_last_12m</th>\n",
       "    </tr>\n",
       "  </thead>\n",
       "  <tbody>\n",
       "    <tr>\n",
       "      <th>0</th>\n",
       "      <td>1077501</td>\n",
       "      <td>1296599</td>\n",
       "      <td>5000</td>\n",
       "      <td>5000</td>\n",
       "      <td>4975.0</td>\n",
       "      <td>36 months</td>\n",
       "      <td>10.65</td>\n",
       "      <td>162.87</td>\n",
       "      <td>B</td>\n",
       "      <td>B2</td>\n",
       "      <td>...</td>\n",
       "      <td>NaN</td>\n",
       "      <td>NaN</td>\n",
       "      <td>NaN</td>\n",
       "      <td>NaN</td>\n",
       "      <td>NaN</td>\n",
       "      <td>NaN</td>\n",
       "      <td>NaN</td>\n",
       "      <td>NaN</td>\n",
       "      <td>NaN</td>\n",
       "      <td>NaN</td>\n",
       "    </tr>\n",
       "    <tr>\n",
       "      <th>1</th>\n",
       "      <td>1077430</td>\n",
       "      <td>1314167</td>\n",
       "      <td>2500</td>\n",
       "      <td>2500</td>\n",
       "      <td>2500.0</td>\n",
       "      <td>60 months</td>\n",
       "      <td>15.27</td>\n",
       "      <td>59.83</td>\n",
       "      <td>C</td>\n",
       "      <td>C4</td>\n",
       "      <td>...</td>\n",
       "      <td>NaN</td>\n",
       "      <td>NaN</td>\n",
       "      <td>NaN</td>\n",
       "      <td>NaN</td>\n",
       "      <td>NaN</td>\n",
       "      <td>NaN</td>\n",
       "      <td>NaN</td>\n",
       "      <td>NaN</td>\n",
       "      <td>NaN</td>\n",
       "      <td>NaN</td>\n",
       "    </tr>\n",
       "    <tr>\n",
       "      <th>2</th>\n",
       "      <td>1077175</td>\n",
       "      <td>1313524</td>\n",
       "      <td>2400</td>\n",
       "      <td>2400</td>\n",
       "      <td>2400.0</td>\n",
       "      <td>36 months</td>\n",
       "      <td>15.96</td>\n",
       "      <td>84.33</td>\n",
       "      <td>C</td>\n",
       "      <td>C5</td>\n",
       "      <td>...</td>\n",
       "      <td>NaN</td>\n",
       "      <td>NaN</td>\n",
       "      <td>NaN</td>\n",
       "      <td>NaN</td>\n",
       "      <td>NaN</td>\n",
       "      <td>NaN</td>\n",
       "      <td>NaN</td>\n",
       "      <td>NaN</td>\n",
       "      <td>NaN</td>\n",
       "      <td>NaN</td>\n",
       "    </tr>\n",
       "    <tr>\n",
       "      <th>3</th>\n",
       "      <td>1076863</td>\n",
       "      <td>1277178</td>\n",
       "      <td>10000</td>\n",
       "      <td>10000</td>\n",
       "      <td>10000.0</td>\n",
       "      <td>36 months</td>\n",
       "      <td>13.49</td>\n",
       "      <td>339.31</td>\n",
       "      <td>C</td>\n",
       "      <td>C1</td>\n",
       "      <td>...</td>\n",
       "      <td>NaN</td>\n",
       "      <td>NaN</td>\n",
       "      <td>NaN</td>\n",
       "      <td>NaN</td>\n",
       "      <td>NaN</td>\n",
       "      <td>NaN</td>\n",
       "      <td>NaN</td>\n",
       "      <td>NaN</td>\n",
       "      <td>NaN</td>\n",
       "      <td>NaN</td>\n",
       "    </tr>\n",
       "    <tr>\n",
       "      <th>4</th>\n",
       "      <td>1075358</td>\n",
       "      <td>1311748</td>\n",
       "      <td>3000</td>\n",
       "      <td>3000</td>\n",
       "      <td>3000.0</td>\n",
       "      <td>60 months</td>\n",
       "      <td>12.69</td>\n",
       "      <td>67.79</td>\n",
       "      <td>B</td>\n",
       "      <td>B5</td>\n",
       "      <td>...</td>\n",
       "      <td>NaN</td>\n",
       "      <td>NaN</td>\n",
       "      <td>NaN</td>\n",
       "      <td>NaN</td>\n",
       "      <td>NaN</td>\n",
       "      <td>NaN</td>\n",
       "      <td>NaN</td>\n",
       "      <td>NaN</td>\n",
       "      <td>NaN</td>\n",
       "      <td>NaN</td>\n",
       "    </tr>\n",
       "  </tbody>\n",
       "</table>\n",
       "<p>5 rows × 74 columns</p>\n",
       "</div>"
      ],
      "text/plain": [
       "        id  member_id  loan_amnt  funded_amnt  funded_amnt_inv        term  \\\n",
       "0  1077501    1296599       5000         5000           4975.0   36 months   \n",
       "1  1077430    1314167       2500         2500           2500.0   60 months   \n",
       "2  1077175    1313524       2400         2400           2400.0   36 months   \n",
       "3  1076863    1277178      10000        10000          10000.0   36 months   \n",
       "4  1075358    1311748       3000         3000           3000.0   60 months   \n",
       "\n",
       "   int_rate  installment grade sub_grade  ... total_bal_il il_util  \\\n",
       "0     10.65       162.87     B        B2  ...          NaN     NaN   \n",
       "1     15.27        59.83     C        C4  ...          NaN     NaN   \n",
       "2     15.96        84.33     C        C5  ...          NaN     NaN   \n",
       "3     13.49       339.31     C        C1  ...          NaN     NaN   \n",
       "4     12.69        67.79     B        B5  ...          NaN     NaN   \n",
       "\n",
       "  open_rv_12m  open_rv_24m max_bal_bc all_util total_rev_hi_lim inq_fi  \\\n",
       "0         NaN          NaN        NaN      NaN              NaN    NaN   \n",
       "1         NaN          NaN        NaN      NaN              NaN    NaN   \n",
       "2         NaN          NaN        NaN      NaN              NaN    NaN   \n",
       "3         NaN          NaN        NaN      NaN              NaN    NaN   \n",
       "4         NaN          NaN        NaN      NaN              NaN    NaN   \n",
       "\n",
       "  total_cu_tl inq_last_12m  \n",
       "0         NaN          NaN  \n",
       "1         NaN          NaN  \n",
       "2         NaN          NaN  \n",
       "3         NaN          NaN  \n",
       "4         NaN          NaN  \n",
       "\n",
       "[5 rows x 74 columns]"
      ]
     },
     "execution_count": 2,
     "metadata": {},
     "output_type": "execute_result"
    }
   ],
   "source": [
    "# cargar los datos en csv\n",
    "data= pd.read_csv('loan_data_2007_2014.csv', sep=',',encoding='latin-1')\n",
    "# Visualizar los datos\n",
    "data.head()"
   ]
  },
  {
   "cell_type": "markdown",
   "metadata": {},
   "source": [
    "Identificacion del tipo de datos\n"
   ]
  },
  {
   "cell_type": "code",
   "execution_count": 13,
   "metadata": {
    "scrolled": true
   },
   "outputs": [
    {
     "data": {
      "text/plain": [
       "id                    int64\n",
       "member_id             int64\n",
       "loan_amnt             int64\n",
       "funded_amnt           int64\n",
       "funded_amnt_inv     float64\n",
       "                     ...   \n",
       "all_util            float64\n",
       "total_rev_hi_lim    float64\n",
       "inq_fi              float64\n",
       "total_cu_tl         float64\n",
       "inq_last_12m        float64\n",
       "Length: 74, dtype: object"
      ]
     },
     "execution_count": 13,
     "metadata": {},
     "output_type": "execute_result"
    }
   ],
   "source": [
    "# Revisar los tipos de datos del dataset\n",
    "data.dtypes"
   ]
  },
  {
   "cell_type": "code",
   "execution_count": 23,
   "metadata": {},
   "outputs": [
    {
     "data": {
      "text/plain": [
       "id                       0\n",
       "member_id                0\n",
       "loan_amnt                0\n",
       "funded_amnt              0\n",
       "funded_amnt_inv          0\n",
       "                     ...  \n",
       "all_util            466285\n",
       "total_rev_hi_lim     70276\n",
       "inq_fi              466285\n",
       "total_cu_tl         466285\n",
       "inq_last_12m        466285\n",
       "Length: 74, dtype: int64"
      ]
     },
     "execution_count": 23,
     "metadata": {},
     "output_type": "execute_result"
    }
   ],
   "source": [
    "#porcentaje de nulos por variable\n",
    "data.isna().sum()/len(data)"
   ]
  },
  {
   "cell_type": "code",
   "execution_count": 5,
   "metadata": {},
   "outputs": [
    {
     "data": {
      "text/plain": [
       "Current                                                224226\n",
       "Fully Paid                                             184739\n",
       "Charged Off                                             42475\n",
       "Late (31-120 days)                                       6900\n",
       "In Grace Period                                          3146\n",
       "Does not meet the credit policy. Status:Fully Paid       1988\n",
       "Late (16-30 days)                                        1218\n",
       "Default                                                   832\n",
       "Does not meet the credit policy. Status:Charged Off       761\n",
       "Name: loan_status, dtype: int64"
      ]
     },
     "execution_count": 5,
     "metadata": {},
     "output_type": "execute_result"
    }
   ],
   "source": [
    "data[\"loan_status\"].value_counts()"
   ]
  },
  {
   "cell_type": "code",
   "execution_count": 14,
   "metadata": {},
   "outputs": [
    {
     "data": {
      "text/plain": [
       "CA    71450\n",
       "NY    40242\n",
       "TX    36439\n",
       "FL    31637\n",
       "IL    18612\n",
       "NJ    18061\n",
       "PA    16424\n",
       "OH    15237\n",
       "GA    14975\n",
       "VA    14222\n",
       "NC    12682\n",
       "MI    11549\n",
       "MA    11072\n",
       "MD    10974\n",
       "AZ    10712\n",
       "WA    10517\n",
       "CO     9739\n",
       "MN     8158\n",
       "MO     7508\n",
       "CT     7204\n",
       "IN     6525\n",
       "NV     6519\n",
       "TN     5984\n",
       "OR     5949\n",
       "WI     5911\n",
       "AL     5853\n",
       "SC     5583\n",
       "LA     5489\n",
       "KY     4438\n",
       "KS     4190\n",
       "OK     4117\n",
       "AR     3488\n",
       "UT     3428\n",
       "NM     2588\n",
       "HI     2487\n",
       "WV     2412\n",
       "NH     2232\n",
       "RI     2050\n",
       "DC     1426\n",
       "MT     1396\n",
       "DE     1272\n",
       "AK     1251\n",
       "MS     1226\n",
       "WY     1128\n",
       "SD      980\n",
       "VT      905\n",
       "IA       14\n",
       "NE       14\n",
       "ID       12\n",
       "ME        4\n",
       "Name: addr_state, dtype: int64"
      ]
     },
     "execution_count": 14,
     "metadata": {},
     "output_type": "execute_result"
    }
   ],
   "source": [
    "data[\"addr_state\"].value_counts()"
   ]
  },
  {
   "cell_type": "markdown",
   "metadata": {},
   "source": [
    "50"
   ]
  },
  {
   "cell_type": "code",
   "execution_count": 17,
   "metadata": {},
   "outputs": [
    {
     "data": {
      "text/plain": [
       "Debt consolidation                   164075\n",
       "Credit card refinancing               62275\n",
       "Debt Consolidation                    15760\n",
       "Home improvement                      14849\n",
       "Other                                 12713\n",
       "                                      ...  \n",
       "credit repayment                          1\n",
       "medical bills/credit card payoff          1\n",
       "One Time Only Relief!                     1\n",
       "Advertising and business expenses         1\n",
       "Paying off the car and some bills         1\n",
       "Name: title, Length: 63098, dtype: int64"
      ]
     },
     "execution_count": 17,
     "metadata": {},
     "output_type": "execute_result"
    }
   ],
   "source": [
    "data[\"title\"].value_counts()"
   ]
  },
  {
   "cell_type": "code",
   "execution_count": 18,
   "metadata": {},
   "outputs": [
    {
     "data": {
      "text/plain": [
       "debt_consolidation    274195\n",
       "credit_card           104157\n",
       "home_improvement       26537\n",
       "other                  23690\n",
       "major_purchase          9828\n",
       "small_business          7013\n",
       "car                     5397\n",
       "medical                 4602\n",
       "moving                  2994\n",
       "vacation                2487\n",
       "wedding                 2343\n",
       "house                   2269\n",
       "educational              422\n",
       "renewable_energy         351\n",
       "Name: purpose, dtype: int64"
      ]
     },
     "execution_count": 18,
     "metadata": {},
     "output_type": "execute_result"
    }
   ],
   "source": [
    "data[\"purpose\"].value_counts()"
   ]
  },
  {
   "cell_type": "code",
   "execution_count": 20,
   "metadata": {},
   "outputs": [
    {
     "data": {
      "text/plain": [
       "10+ years    150049\n",
       "2 years       41373\n",
       "3 years       36596\n",
       "< 1 year      36265\n",
       "5 years       30774\n",
       "1 year        29622\n",
       "4 years       28023\n",
       "7 years       26180\n",
       "6 years       26112\n",
       "8 years       22395\n",
       "9 years       17888\n",
       "Name: emp_length, dtype: int64"
      ]
     },
     "execution_count": 20,
     "metadata": {},
     "output_type": "execute_result"
    }
   ],
   "source": [
    "data[\"emp_length\"].value_counts()"
   ]
  },
  {
   "cell_type": "code",
   "execution_count": 21,
   "metadata": {},
   "outputs": [
    {
     "data": {
      "text/plain": [
       "B3    31686\n",
       "B4    30505\n",
       "C1    26953\n",
       "C2    26740\n",
       "B2    26610\n",
       "C3    25317\n",
       "B5    25252\n",
       "C4    24105\n",
       "B1    22876\n",
       "C5    22178\n",
       "A5    21757\n",
       "D1    19261\n",
       "A4    19045\n",
       "D2    17046\n",
       "D3    14916\n",
       "D4    14099\n",
       "A3    12568\n",
       "D5    11566\n",
       "A2    10956\n",
       "A1    10541\n",
       "E1     9033\n",
       "E2     8669\n",
       "E3     6976\n",
       "E4     5992\n",
       "E5     5087\n",
       "F1     3940\n",
       "F2     3001\n",
       "F3     2708\n",
       "F4     2067\n",
       "F5     1513\n",
       "G1     1109\n",
       "G2      823\n",
       "G3      583\n",
       "G4      422\n",
       "G5      385\n",
       "Name: sub_grade, dtype: int64"
      ]
     },
     "execution_count": 21,
     "metadata": {},
     "output_type": "execute_result"
    }
   ],
   "source": [
    "data[\"sub_grade\"].value_counts()"
   ]
  },
  {
   "cell_type": "markdown",
   "metadata": {},
   "source": [
    "35"
   ]
  },
  {
   "cell_type": "code",
   "execution_count": 22,
   "metadata": {},
   "outputs": [
    {
     "data": {
      "text/plain": [
       "Teacher                              5399\n",
       "Manager                              4438\n",
       "Registered Nurse                     2316\n",
       "RN                                   2204\n",
       "Supervisor                           1967\n",
       "                                     ... \n",
       "The Eastern Arizona AHEC                1\n",
       "Delaware Quarries.com                   1\n",
       "McCauley trucking and warehousing       1\n",
       "save mart supermarkets                  1\n",
       "Server Engineer Lead                    1\n",
       "Name: emp_title, Length: 205475, dtype: int64"
      ]
     },
     "execution_count": 22,
     "metadata": {},
     "output_type": "execute_result"
    }
   ],
   "source": [
    "data[\"emp_title\"].value_counts()"
   ]
  },
  {
   "cell_type": "code",
   "execution_count": 25,
   "metadata": {},
   "outputs": [
    {
     "data": {
      "text/plain": [
       "1077501     1\n",
       "26180404    1\n",
       "26219322    1\n",
       "26239577    1\n",
       "26290537    1\n",
       "           ..\n",
       "3714715     1\n",
       "3703738     1\n",
       "3731030     1\n",
       "3705772     1\n",
       "9199665     1\n",
       "Name: id, Length: 466285, dtype: int64"
      ]
     },
     "execution_count": 25,
     "metadata": {},
     "output_type": "execute_result"
    }
   ],
   "source": [
    "data[\"id\"].value_counts()"
   ]
  },
  {
   "cell_type": "code",
   "execution_count": 26,
   "metadata": {},
   "outputs": [
    {
     "data": {
      "text/plain": [
       "INDIVIDUAL    466285\n",
       "Name: application_type, dtype: int64"
      ]
     },
     "execution_count": 26,
     "metadata": {},
     "output_type": "execute_result"
    }
   ],
   "source": [
    "data[\"application_type\"].value_counts()"
   ]
  },
  {
   "cell_type": "code",
   "execution_count": 27,
   "metadata": {},
   "outputs": [
    {
     "data": {
      "text/plain": [
       "Oct-14    38782\n",
       "Jul-14    29306\n",
       "Nov-14    25054\n",
       "May-14    19099\n",
       "Apr-14    19071\n",
       "          ...  \n",
       "Aug-07       74\n",
       "Jul-07       63\n",
       "Sep-08       57\n",
       "Sep-07       53\n",
       "Jun-07       24\n",
       "Name: issue_d, Length: 91, dtype: int64"
      ]
     },
     "execution_count": 27,
     "metadata": {},
     "output_type": "execute_result"
    }
   ],
   "source": [
    "data[\"issue_d\"].value_counts()"
   ]
  },
  {
   "cell_type": "code",
   "execution_count": null,
   "metadata": {},
   "outputs": [],
   "source": []
  },
  {
   "cell_type": "code",
   "execution_count": null,
   "metadata": {},
   "outputs": [],
   "source": []
  },
  {
   "cell_type": "code",
   "execution_count": null,
   "metadata": {},
   "outputs": [],
   "source": []
  },
  {
   "cell_type": "code",
   "execution_count": null,
   "metadata": {},
   "outputs": [],
   "source": []
  },
  {
   "cell_type": "code",
   "execution_count": 28,
   "metadata": {},
   "outputs": [
    {
     "data": {
      "text/plain": [
       "Oct-00    3674\n",
       "Aug-00    3597\n",
       "Aug-01    3455\n",
       "Oct-99    3406\n",
       "Oct-01    3329\n",
       "          ... \n",
       "Jul-55       1\n",
       "Feb-57       1\n",
       "Oct-54       1\n",
       "May-53       1\n",
       "Nov-56       1\n",
       "Name: earliest_cr_line, Length: 664, dtype: int64"
      ]
     },
     "execution_count": 28,
     "metadata": {},
     "output_type": "execute_result"
    }
   ],
   "source": [
    "data[\"earliest_cr_line\"].value_counts()"
   ]
  },
  {
   "cell_type": "code",
   "execution_count": 29,
   "metadata": {},
   "outputs": [
    {
     "data": {
      "text/plain": [
       "Jan-16    179620\n",
       "Dec-15     62000\n",
       "Jul-15     11703\n",
       "Oct-15     11248\n",
       "Sep-15     10204\n",
       "           ...  \n",
       "Jun-08        20\n",
       "Mar-08        18\n",
       "Jan-08        11\n",
       "Feb-08         8\n",
       "Dec-07         2\n",
       "Name: last_pymnt_d, Length: 98, dtype: int64"
      ]
     },
     "execution_count": 29,
     "metadata": {},
     "output_type": "execute_result"
    }
   ],
   "source": [
    "data[\"last_pymnt_d\"].value_counts()"
   ]
  },
  {
   "cell_type": "code",
   "execution_count": 30,
   "metadata": {},
   "outputs": [
    {
     "data": {
      "text/plain": [
       "Feb-16    208393\n",
       "Jan-16     27922\n",
       "Mar-11       107\n",
       "Apr-11       101\n",
       "Feb-11        91\n",
       "           ...  \n",
       "Oct-14         2\n",
       "Feb-08         2\n",
       "May-08         1\n",
       "Mar-15         1\n",
       "Dec-07         1\n",
       "Name: next_pymnt_d, Length: 100, dtype: int64"
      ]
     },
     "execution_count": 30,
     "metadata": {},
     "output_type": "execute_result"
    }
   ],
   "source": [
    "data[\"next_pymnt_d\"].value_counts()"
   ]
  },
  {
   "cell_type": "code",
   "execution_count": 31,
   "metadata": {},
   "outputs": [
    {
     "data": {
      "text/plain": [
       "Jan-16    327699\n",
       "Dec-15     13992\n",
       "Nov-15      8384\n",
       "Sep-15      8051\n",
       "Oct-15      7957\n",
       "           ...  \n",
       "Nov-07         3\n",
       "May-08         1\n",
       "Jun-08         1\n",
       "Jul-08         1\n",
       "Jul-07         1\n",
       "Name: last_credit_pull_d, Length: 103, dtype: int64"
      ]
     },
     "execution_count": 31,
     "metadata": {},
     "output_type": "execute_result"
    }
   ],
   "source": [
    "data[\"last_credit_pull_d\"].value_counts()"
   ]
  },
  {
   "cell_type": "code",
   "execution_count": null,
   "metadata": {},
   "outputs": [],
   "source": []
  },
  {
   "cell_type": "code",
   "execution_count": null,
   "metadata": {},
   "outputs": [],
   "source": []
  },
  {
   "cell_type": "code",
   "execution_count": null,
   "metadata": {},
   "outputs": [],
   "source": []
  },
  {
   "cell_type": "code",
   "execution_count": null,
   "metadata": {},
   "outputs": [],
   "source": []
  },
  {
   "cell_type": "code",
   "execution_count": null,
   "metadata": {},
   "outputs": [],
   "source": []
  },
  {
   "cell_type": "code",
   "execution_count": null,
   "metadata": {},
   "outputs": [],
   "source": []
  },
  {
   "cell_type": "code",
   "execution_count": null,
   "metadata": {},
   "outputs": [],
   "source": []
  },
  {
   "cell_type": "code",
   "execution_count": 5,
   "metadata": {
    "scrolled": true
   },
   "outputs": [
    {
     "data": {
      "text/plain": [
       "count    10134.000000\n",
       "mean     49991.684626\n",
       "std      22463.895340\n",
       "min       5001.000000\n",
       "25%      50001.000000\n",
       "50%      52323.000000\n",
       "75%      54003.000000\n",
       "max      99001.000000\n",
       "Name: codigo_postal_vendedor, dtype: float64"
      ]
     },
     "execution_count": 5,
     "metadata": {},
     "output_type": "execute_result"
    }
   ],
   "source": [
    "# Obtener estadísticas básica\n",
    "data['codigo_postal_vendedor'].describe()"
   ]
  },
  {
   "cell_type": "markdown",
   "metadata": {},
   "source": [
    "# ¡Cuidado con este error de interpretación!\n",
    "\n",
    "Al ser un dato de identificación es un dato categórico y no tiene ninguna interpretación describir las estadísticas descriptivas básicas"
   ]
  },
  {
   "cell_type": "code",
   "execution_count": 6,
   "metadata": {},
   "outputs": [
    {
     "data": {
      "text/plain": [
       "orden_id                          object\n",
       "order_item_id                     object\n",
       "producto_id                       object\n",
       "vendedor_id                       object\n",
       "fecha_envio_limite                object\n",
       "precio                           float64\n",
       "valor_flete                      float64\n",
       "codigo_postal_vendedor            object\n",
       "ciudad_vendedor                   object\n",
       "departamento_vendedor             object\n",
       "nombre_categoria_producto         object\n",
       "longitud_nombre_producto         float64\n",
       "longitud_descripcion_producto    float64\n",
       "cantidad_fotos_producto          float64\n",
       "peso_g_producto                  float64\n",
       "longitud_cm_producto             float64\n",
       "altura_cm_producto               float64\n",
       "ancho_cm_producto                float64\n",
       "dtype: object"
      ]
     },
     "execution_count": 6,
     "metadata": {},
     "output_type": "execute_result"
    }
   ],
   "source": [
    "# lo mejor es convertirlo en categórico\n",
    "data['codigo_postal_vendedor']=data['codigo_postal_vendedor'].astype(str)\n",
    "data.dtypes"
   ]
  },
  {
   "cell_type": "markdown",
   "metadata": {},
   "source": [
    "### 4. Datos nulos\n",
    "\n",
    "Los datos nulos son los registros que por cualquier razón no registran ningún dato, que por lo tanto van a generar un ruido o un sesgo (dependiendo del análisis) y que va a alterar el manejo de los datos para realizar análisis de alto nivel\n",
    "\n",
    "**Contexto:** No existen datos faltantes en la base, ya que si no están los datos de las órdenes no es posible encontrar cómo realizar el envío"
   ]
  },
  {
   "cell_type": "code",
   "execution_count": 7,
   "metadata": {
    "scrolled": false
   },
   "outputs": [
    {
     "data": {
      "text/plain": [
       "orden_id                         0.00000\n",
       "order_item_id                    0.00000\n",
       "producto_id                      0.00000\n",
       "vendedor_id                      0.00000\n",
       "fecha_envio_limite               0.00000\n",
       "precio                           0.00000\n",
       "valor_flete                      0.00000\n",
       "codigo_postal_vendedor           0.00000\n",
       "ciudad_vendedor                  0.00000\n",
       "departamento_vendedor            0.00000\n",
       "nombre_categoria_producto        0.00227\n",
       "longitud_nombre_producto         0.00227\n",
       "longitud_descripcion_producto    0.00227\n",
       "cantidad_fotos_producto          0.00227\n",
       "peso_g_producto                  0.00227\n",
       "longitud_cm_producto             0.00227\n",
       "altura_cm_producto               0.00227\n",
       "ancho_cm_producto                0.00227\n",
       "dtype: float64"
      ]
     },
     "execution_count": 7,
     "metadata": {},
     "output_type": "execute_result"
    }
   ],
   "source": [
    "## Función para revisar nulos\n",
    "# Muestra variable por variable qué porcentaje de nulos se tienen\n",
    "data.isna().sum()/len(data)"
   ]
  },
  {
   "cell_type": "code",
   "execution_count": 8,
   "metadata": {},
   "outputs": [
    {
     "data": {
      "text/plain": [
       "(10134, 18)"
      ]
     },
     "execution_count": 8,
     "metadata": {},
     "output_type": "execute_result"
    }
   ],
   "source": [
    "data.shape"
   ]
  },
  {
   "cell_type": "markdown",
   "metadata": {},
   "source": [
    "Las variables involucradas apenas tienen data faltante menor al 1%, por lo tanto se debe decidir cuál criterio utilizar para la data faltante\n",
    "\n",
    "1. Métodos de eliminacion\n",
    "\n",
    "Los métodos de eliminación solo funcionan para determinados conjuntos de datos en los que a los participantes les faltan campos. Hay varios métodos de eliminación: dos comunes incluyen la eliminación por lista y la eliminación por pares. Significa eliminar cualquier participante o entrada de datos con valores perdidos. La eliminación por pares es el proceso de eliminar información cuando falta un punto de datos en particular, vital para las pruebas. La eliminación por pares guarda más datos en comparación con la eliminación similar porque la primera solo elimina las entradas donde las variables eran necesarias para la prueba, mientras que la última elimina las entradas completas si falta algún dato, independientemente de su importancia.\n",
    "\n",
    "2. Análisis de regresión\n",
    "\n",
    "La regresión es útil para manejar datos faltantes porque puede usarse para predecir el valor nulo usando otra información del conjunto de datos. Los métodos de regresión pueden tener éxito para encontrar los datos faltantes, pero esto depende en gran medida de qué tan bien conectados estén los datos restantes. \n",
    "\n",
    "3. Técnicas de imputación de datos\n",
    "\n",
    "La imputación promedio utiliza el valor promedio de las respuestas de otras entradas de datos para completar los valores faltantes. La imputación de punto comúnes cuando los datos utilizan el punto medio o el valor elegido con más frecuencia. \n",
    "\n",
    "4. Mantener los vacíos\n",
    "\n",
    "No podemos evitar situaciones como estas por completo porque hay varios pasos correctivos que los científicos de datos deben tomar para asegurarse de que no afecten negativamente el proceso de análisis. \n",
    "\n",
    "**Análisis:** En este caso al no contar con el nombre, categoría ni medidas del producto es necesario eliminar estos registros, así como la orden creada y hablar con los clientes para generar la devolución de su dinero"
   ]
  },
  {
   "cell_type": "code",
   "execution_count": 9,
   "metadata": {
    "scrolled": true
   },
   "outputs": [
    {
     "data": {
      "text/plain": [
       "(10111, 18)"
      ]
     },
     "execution_count": 9,
     "metadata": {},
     "output_type": "execute_result"
    }
   ],
   "source": [
    "# eliminar los datos vacío\n",
    "data=data.dropna()\n",
    "data.shape"
   ]
  },
  {
   "cell_type": "markdown",
   "metadata": {},
   "source": [
    "### 4. Duplicados\n",
    "\n",
    "Identificar los datos (registros) que por alguna razón tienen columnas repetidas en todas las variables, es decir está generando data erronea ya que está mostrando datos que ya están en la base\n",
    "\n",
    "**Contexto:** Existen órdenes duplicadas para realizar los envíos"
   ]
  },
  {
   "cell_type": "code",
   "execution_count": 10,
   "metadata": {
    "scrolled": true
   },
   "outputs": [
    {
     "data": {
      "text/plain": [
       "0        False\n",
       "1        False\n",
       "2        False\n",
       "3        False\n",
       "4        False\n",
       "         ...  \n",
       "10129    False\n",
       "10130    False\n",
       "10131    False\n",
       "10132    False\n",
       "10133    False\n",
       "Length: 10111, dtype: bool"
      ]
     },
     "execution_count": 10,
     "metadata": {},
     "output_type": "execute_result"
    }
   ],
   "source": [
    "#Revisar cuáles registros están duplicados\n",
    "data.duplicated()"
   ]
  },
  {
   "cell_type": "code",
   "execution_count": 11,
   "metadata": {},
   "outputs": [
    {
     "data": {
      "text/html": [
       "<div>\n",
       "<style scoped>\n",
       "    .dataframe tbody tr th:only-of-type {\n",
       "        vertical-align: middle;\n",
       "    }\n",
       "\n",
       "    .dataframe tbody tr th {\n",
       "        vertical-align: top;\n",
       "    }\n",
       "\n",
       "    .dataframe thead th {\n",
       "        text-align: right;\n",
       "    }\n",
       "</style>\n",
       "<table border=\"1\" class=\"dataframe\">\n",
       "  <thead>\n",
       "    <tr style=\"text-align: right;\">\n",
       "      <th></th>\n",
       "      <th>orden_id</th>\n",
       "      <th>order_item_id</th>\n",
       "      <th>producto_id</th>\n",
       "      <th>vendedor_id</th>\n",
       "      <th>fecha_envio_limite</th>\n",
       "      <th>precio</th>\n",
       "      <th>valor_flete</th>\n",
       "      <th>codigo_postal_vendedor</th>\n",
       "      <th>ciudad_vendedor</th>\n",
       "      <th>departamento_vendedor</th>\n",
       "      <th>nombre_categoria_producto</th>\n",
       "      <th>longitud_nombre_producto</th>\n",
       "      <th>longitud_descripcion_producto</th>\n",
       "      <th>cantidad_fotos_producto</th>\n",
       "      <th>peso_g_producto</th>\n",
       "      <th>longitud_cm_producto</th>\n",
       "      <th>altura_cm_producto</th>\n",
       "      <th>ancho_cm_producto</th>\n",
       "    </tr>\n",
       "  </thead>\n",
       "  <tbody>\n",
       "    <tr>\n",
       "      <th>0</th>\n",
       "      <td>107500PO59A</td>\n",
       "      <td>A</td>\n",
       "      <td>PO59</td>\n",
       "      <td>VE5389</td>\n",
       "      <td>7/04/2018 18:12</td>\n",
       "      <td>271.86</td>\n",
       "      <td>30.72</td>\n",
       "      <td>52435</td>\n",
       "      <td>Mallama</td>\n",
       "      <td>Nariño</td>\n",
       "      <td>Productos ecoamigables</td>\n",
       "      <td>6.0</td>\n",
       "      <td>7.0</td>\n",
       "      <td>27.0</td>\n",
       "      <td>2486.0</td>\n",
       "      <td>17.0</td>\n",
       "      <td>11.0</td>\n",
       "      <td>14.0</td>\n",
       "    </tr>\n",
       "    <tr>\n",
       "      <th>1</th>\n",
       "      <td>37493PS22B</td>\n",
       "      <td>B</td>\n",
       "      <td>PS22</td>\n",
       "      <td>VE1558</td>\n",
       "      <td>20/10/2017 9:07</td>\n",
       "      <td>115.73</td>\n",
       "      <td>4.68</td>\n",
       "      <td>52203</td>\n",
       "      <td>Colon</td>\n",
       "      <td>Nariño</td>\n",
       "      <td>Carnicería</td>\n",
       "      <td>10.0</td>\n",
       "      <td>31.0</td>\n",
       "      <td>20.0</td>\n",
       "      <td>256.0</td>\n",
       "      <td>43.0</td>\n",
       "      <td>2.0</td>\n",
       "      <td>21.0</td>\n",
       "    </tr>\n",
       "    <tr>\n",
       "      <th>2</th>\n",
       "      <td>28050PK20B</td>\n",
       "      <td>B</td>\n",
       "      <td>PK20</td>\n",
       "      <td>VE9159</td>\n",
       "      <td>17/08/2017 8:15</td>\n",
       "      <td>432.99</td>\n",
       "      <td>82.70</td>\n",
       "      <td>66001</td>\n",
       "      <td>Pereira</td>\n",
       "      <td>Risaralda</td>\n",
       "      <td>Deportes</td>\n",
       "      <td>25.0</td>\n",
       "      <td>5.0</td>\n",
       "      <td>4.0</td>\n",
       "      <td>5270.0</td>\n",
       "      <td>9.0</td>\n",
       "      <td>27.0</td>\n",
       "      <td>29.0</td>\n",
       "    </tr>\n",
       "    <tr>\n",
       "      <th>3</th>\n",
       "      <td>52187PA10A</td>\n",
       "      <td>A</td>\n",
       "      <td>PA10</td>\n",
       "      <td>VE3159</td>\n",
       "      <td>23/09/2017 23:27</td>\n",
       "      <td>108.38</td>\n",
       "      <td>35.39</td>\n",
       "      <td>52435</td>\n",
       "      <td>Mallama</td>\n",
       "      <td>Nariño</td>\n",
       "      <td>Electrodomésticos</td>\n",
       "      <td>10.0</td>\n",
       "      <td>1.0</td>\n",
       "      <td>6.0</td>\n",
       "      <td>734.0</td>\n",
       "      <td>46.0</td>\n",
       "      <td>48.0</td>\n",
       "      <td>22.0</td>\n",
       "    </tr>\n",
       "    <tr>\n",
       "      <th>4</th>\n",
       "      <td>84639PR12A</td>\n",
       "      <td>A</td>\n",
       "      <td>PR12</td>\n",
       "      <td>VE5090</td>\n",
       "      <td>7/01/2018 11:50</td>\n",
       "      <td>51.50</td>\n",
       "      <td>11.10</td>\n",
       "      <td>73001</td>\n",
       "      <td>Ibague</td>\n",
       "      <td>Tolima</td>\n",
       "      <td>Frutas y verduras</td>\n",
       "      <td>23.0</td>\n",
       "      <td>16.0</td>\n",
       "      <td>35.0</td>\n",
       "      <td>884.0</td>\n",
       "      <td>45.0</td>\n",
       "      <td>26.0</td>\n",
       "      <td>18.0</td>\n",
       "    </tr>\n",
       "  </tbody>\n",
       "</table>\n",
       "</div>"
      ],
      "text/plain": [
       "      orden_id order_item_id producto_id vendedor_id fecha_envio_limite  \\\n",
       "0  107500PO59A             A        PO59      VE5389    7/04/2018 18:12   \n",
       "1   37493PS22B             B        PS22      VE1558    20/10/2017 9:07   \n",
       "2   28050PK20B             B        PK20      VE9159    17/08/2017 8:15   \n",
       "3   52187PA10A             A        PA10      VE3159   23/09/2017 23:27   \n",
       "4   84639PR12A             A        PR12      VE5090    7/01/2018 11:50   \n",
       "\n",
       "   precio  valor_flete codigo_postal_vendedor ciudad_vendedor  \\\n",
       "0  271.86        30.72                  52435         Mallama   \n",
       "1  115.73         4.68                  52203           Colon   \n",
       "2  432.99        82.70                  66001         Pereira   \n",
       "3  108.38        35.39                  52435         Mallama   \n",
       "4   51.50        11.10                  73001          Ibague   \n",
       "\n",
       "  departamento_vendedor nombre_categoria_producto  longitud_nombre_producto  \\\n",
       "0                Nariño    Productos ecoamigables                       6.0   \n",
       "1                Nariño                Carnicería                      10.0   \n",
       "2             Risaralda                  Deportes                      25.0   \n",
       "3                Nariño         Electrodomésticos                      10.0   \n",
       "4                Tolima         Frutas y verduras                      23.0   \n",
       "\n",
       "   longitud_descripcion_producto  cantidad_fotos_producto  peso_g_producto  \\\n",
       "0                            7.0                     27.0           2486.0   \n",
       "1                           31.0                     20.0            256.0   \n",
       "2                            5.0                      4.0           5270.0   \n",
       "3                            1.0                      6.0            734.0   \n",
       "4                           16.0                     35.0            884.0   \n",
       "\n",
       "   longitud_cm_producto  altura_cm_producto  ancho_cm_producto  \n",
       "0                  17.0                11.0               14.0  \n",
       "1                  43.0                 2.0               21.0  \n",
       "2                   9.0                27.0               29.0  \n",
       "3                  46.0                48.0               22.0  \n",
       "4                  45.0                26.0               18.0  "
      ]
     },
     "execution_count": 11,
     "metadata": {},
     "output_type": "execute_result"
    }
   ],
   "source": [
    "# establecer un método para eliminar duplicados\n",
    "data=data.drop_duplicates()\n",
    "data.head(5)"
   ]
  },
  {
   "cell_type": "code",
   "execution_count": 12,
   "metadata": {
    "scrolled": true
   },
   "outputs": [
    {
     "data": {
      "text/plain": [
       "0"
      ]
     },
     "execution_count": 12,
     "metadata": {},
     "output_type": "execute_result"
    }
   ],
   "source": [
    "#Mostrar la totalidad de datos duplicados, la función .sum() muestra la suma de registros\n",
    "data.duplicated().sum()"
   ]
  },
  {
   "cell_type": "markdown",
   "metadata": {},
   "source": [
    "**Análisis:** No existen órdenes duplicadas"
   ]
  },
  {
   "cell_type": "markdown",
   "metadata": {},
   "source": [
    "### 5. Elegir el formato\n",
    "Cuando se trabaja con datos es posible encontrarse con diferentes tipos de datos y es muy importante encontrar el tipo de dato correcto, es decir, saber si se trabaja con reales, con enteros, categorías, fechas, etc...\n",
    "\n",
    "**Hipótesis:** Es posible realizar el cálculo de la fecha de envío hasta hoy"
   ]
  },
  {
   "cell_type": "code",
   "execution_count": 13,
   "metadata": {},
   "outputs": [
    {
     "name": "stderr",
     "output_type": "stream",
     "text": [
      "C:\\Users\\Edwar\\anaconda3\\lib\\site-packages\\pandas\\core\\arrays\\datetimes.py:2199: FutureWarning: The parsing of 'now' in pd.to_datetime without `utc=True` is deprecated. In a future version, this will match Timestamp('now') and Timestamp.now()\n",
      "  result, tz_parsed = tslib.array_to_datetime(\n"
     ]
    },
    {
     "data": {
      "text/plain": [
       "Timestamp('2022-07-15 04:06:08.665978')"
      ]
     },
     "execution_count": 13,
     "metadata": {},
     "output_type": "execute_result"
    }
   ],
   "source": [
    "## Arreglo de datos\n",
    "# Se trata de restar dos fechas\n",
    "hoy = pd.to_datetime(\"now\")\n",
    "hoy\n"
   ]
  },
  {
   "cell_type": "code",
   "execution_count": 14,
   "metadata": {},
   "outputs": [
    {
     "data": {
      "text/plain": [
       "0         7/04/2018 18:12\n",
       "1         20/10/2017 9:07\n",
       "2         17/08/2017 8:15\n",
       "3        23/09/2017 23:27\n",
       "4         7/01/2018 11:50\n",
       "               ...       \n",
       "10129     1/04/2018 11:38\n",
       "10130    21/10/2017 17:09\n",
       "10131     10/10/2017 8:37\n",
       "10132     13/11/2017 3:20\n",
       "10133    26/12/2017 19:34\n",
       "Name: fecha_envio_limite, Length: 10111, dtype: object"
      ]
     },
     "execution_count": 14,
     "metadata": {},
     "output_type": "execute_result"
    }
   ],
   "source": [
    "#restar los días que hay entre hoy y la fecha de pedido\n",
    "data['fecha_envio_limite']"
   ]
  },
  {
   "cell_type": "code",
   "execution_count": 15,
   "metadata": {
    "scrolled": false
   },
   "outputs": [
    {
     "ename": "TypeError",
     "evalue": "unsupported operand type(s) for -: 'numpy.ndarray' and 'Timestamp'",
     "output_type": "error",
     "traceback": [
      "\u001b[1;31m---------------------------------------------------------------------------\u001b[0m",
      "\u001b[1;31mTypeError\u001b[0m                                 Traceback (most recent call last)",
      "Input \u001b[1;32mIn [15]\u001b[0m, in \u001b[0;36m<cell line: 1>\u001b[1;34m()\u001b[0m\n\u001b[1;32m----> 1\u001b[0m \u001b[43mdata\u001b[49m\u001b[43m[\u001b[49m\u001b[38;5;124;43m'\u001b[39;49m\u001b[38;5;124;43mfecha_envio_limite\u001b[39;49m\u001b[38;5;124;43m'\u001b[39;49m\u001b[43m]\u001b[49m\u001b[38;5;241;43m-\u001b[39;49m\u001b[43mhoy\u001b[49m\n",
      "File \u001b[1;32m~\\anaconda3\\lib\\site-packages\\pandas\\core\\ops\\common.py:70\u001b[0m, in \u001b[0;36m_unpack_zerodim_and_defer.<locals>.new_method\u001b[1;34m(self, other)\u001b[0m\n\u001b[0;32m     66\u001b[0m             \u001b[38;5;28;01mreturn\u001b[39;00m \u001b[38;5;28mNotImplemented\u001b[39m\n\u001b[0;32m     68\u001b[0m other \u001b[38;5;241m=\u001b[39m item_from_zerodim(other)\n\u001b[1;32m---> 70\u001b[0m \u001b[38;5;28;01mreturn\u001b[39;00m \u001b[43mmethod\u001b[49m\u001b[43m(\u001b[49m\u001b[38;5;28;43mself\u001b[39;49m\u001b[43m,\u001b[49m\u001b[43m \u001b[49m\u001b[43mother\u001b[49m\u001b[43m)\u001b[49m\n",
      "File \u001b[1;32m~\\anaconda3\\lib\\site-packages\\pandas\\core\\arraylike.py:108\u001b[0m, in \u001b[0;36mOpsMixin.__sub__\u001b[1;34m(self, other)\u001b[0m\n\u001b[0;32m    106\u001b[0m \u001b[38;5;129m@unpack_zerodim_and_defer\u001b[39m(\u001b[38;5;124m\"\u001b[39m\u001b[38;5;124m__sub__\u001b[39m\u001b[38;5;124m\"\u001b[39m)\n\u001b[0;32m    107\u001b[0m \u001b[38;5;28;01mdef\u001b[39;00m \u001b[38;5;21m__sub__\u001b[39m(\u001b[38;5;28mself\u001b[39m, other):\n\u001b[1;32m--> 108\u001b[0m     \u001b[38;5;28;01mreturn\u001b[39;00m \u001b[38;5;28;43mself\u001b[39;49m\u001b[38;5;241;43m.\u001b[39;49m\u001b[43m_arith_method\u001b[49m\u001b[43m(\u001b[49m\u001b[43mother\u001b[49m\u001b[43m,\u001b[49m\u001b[43m \u001b[49m\u001b[43moperator\u001b[49m\u001b[38;5;241;43m.\u001b[39;49m\u001b[43msub\u001b[49m\u001b[43m)\u001b[49m\n",
      "File \u001b[1;32m~\\anaconda3\\lib\\site-packages\\pandas\\core\\series.py:5639\u001b[0m, in \u001b[0;36mSeries._arith_method\u001b[1;34m(self, other, op)\u001b[0m\n\u001b[0;32m   5637\u001b[0m \u001b[38;5;28;01mdef\u001b[39;00m \u001b[38;5;21m_arith_method\u001b[39m(\u001b[38;5;28mself\u001b[39m, other, op):\n\u001b[0;32m   5638\u001b[0m     \u001b[38;5;28mself\u001b[39m, other \u001b[38;5;241m=\u001b[39m ops\u001b[38;5;241m.\u001b[39malign_method_SERIES(\u001b[38;5;28mself\u001b[39m, other)\n\u001b[1;32m-> 5639\u001b[0m     \u001b[38;5;28;01mreturn\u001b[39;00m \u001b[43mbase\u001b[49m\u001b[38;5;241;43m.\u001b[39;49m\u001b[43mIndexOpsMixin\u001b[49m\u001b[38;5;241;43m.\u001b[39;49m\u001b[43m_arith_method\u001b[49m\u001b[43m(\u001b[49m\u001b[38;5;28;43mself\u001b[39;49m\u001b[43m,\u001b[49m\u001b[43m \u001b[49m\u001b[43mother\u001b[49m\u001b[43m,\u001b[49m\u001b[43m \u001b[49m\u001b[43mop\u001b[49m\u001b[43m)\u001b[49m\n",
      "File \u001b[1;32m~\\anaconda3\\lib\\site-packages\\pandas\\core\\base.py:1295\u001b[0m, in \u001b[0;36mIndexOpsMixin._arith_method\u001b[1;34m(self, other, op)\u001b[0m\n\u001b[0;32m   1292\u001b[0m rvalues \u001b[38;5;241m=\u001b[39m ensure_wrapped_if_datetimelike(rvalues)\n\u001b[0;32m   1294\u001b[0m \u001b[38;5;28;01mwith\u001b[39;00m np\u001b[38;5;241m.\u001b[39merrstate(\u001b[38;5;28mall\u001b[39m\u001b[38;5;241m=\u001b[39m\u001b[38;5;124m\"\u001b[39m\u001b[38;5;124mignore\u001b[39m\u001b[38;5;124m\"\u001b[39m):\n\u001b[1;32m-> 1295\u001b[0m     result \u001b[38;5;241m=\u001b[39m \u001b[43mops\u001b[49m\u001b[38;5;241;43m.\u001b[39;49m\u001b[43marithmetic_op\u001b[49m\u001b[43m(\u001b[49m\u001b[43mlvalues\u001b[49m\u001b[43m,\u001b[49m\u001b[43m \u001b[49m\u001b[43mrvalues\u001b[49m\u001b[43m,\u001b[49m\u001b[43m \u001b[49m\u001b[43mop\u001b[49m\u001b[43m)\u001b[49m\n\u001b[0;32m   1297\u001b[0m \u001b[38;5;28;01mreturn\u001b[39;00m \u001b[38;5;28mself\u001b[39m\u001b[38;5;241m.\u001b[39m_construct_result(result, name\u001b[38;5;241m=\u001b[39mres_name)\n",
      "File \u001b[1;32m~\\anaconda3\\lib\\site-packages\\pandas\\core\\ops\\array_ops.py:216\u001b[0m, in \u001b[0;36marithmetic_op\u001b[1;34m(left, right, op)\u001b[0m\n\u001b[0;32m    203\u001b[0m \u001b[38;5;66;03m# NB: We assume that extract_array and ensure_wrapped_if_datetimelike\u001b[39;00m\n\u001b[0;32m    204\u001b[0m \u001b[38;5;66;03m#  have already been called on `left` and `right`,\u001b[39;00m\n\u001b[0;32m    205\u001b[0m \u001b[38;5;66;03m#  and `maybe_prepare_scalar_for_op` has already been called on `right`\u001b[39;00m\n\u001b[0;32m    206\u001b[0m \u001b[38;5;66;03m# We need to special-case datetime64/timedelta64 dtypes (e.g. because numpy\u001b[39;00m\n\u001b[0;32m    207\u001b[0m \u001b[38;5;66;03m# casts integer dtypes to timedelta64 when operating with timedelta64 - GH#22390)\u001b[39;00m\n\u001b[0;32m    209\u001b[0m \u001b[38;5;28;01mif\u001b[39;00m (\n\u001b[0;32m    210\u001b[0m     should_extension_dispatch(left, right)\n\u001b[0;32m    211\u001b[0m     \u001b[38;5;129;01mor\u001b[39;00m \u001b[38;5;28misinstance\u001b[39m(right, (Timedelta, BaseOffset, Timestamp))\n\u001b[1;32m   (...)\u001b[0m\n\u001b[0;32m    214\u001b[0m     \u001b[38;5;66;03m# Timedelta/Timestamp and other custom scalars are included in the check\u001b[39;00m\n\u001b[0;32m    215\u001b[0m     \u001b[38;5;66;03m# because numexpr will fail on it, see GH#31457\u001b[39;00m\n\u001b[1;32m--> 216\u001b[0m     res_values \u001b[38;5;241m=\u001b[39m \u001b[43mop\u001b[49m\u001b[43m(\u001b[49m\u001b[43mleft\u001b[49m\u001b[43m,\u001b[49m\u001b[43m \u001b[49m\u001b[43mright\u001b[49m\u001b[43m)\u001b[49m\n\u001b[0;32m    217\u001b[0m \u001b[38;5;28;01melse\u001b[39;00m:\n\u001b[0;32m    218\u001b[0m     \u001b[38;5;66;03m# TODO we should handle EAs consistently and move this check before the if/else\u001b[39;00m\n\u001b[0;32m    219\u001b[0m     \u001b[38;5;66;03m# (https://github.com/pandas-dev/pandas/issues/41165)\u001b[39;00m\n\u001b[0;32m    220\u001b[0m     _bool_arith_check(op, left, right)\n",
      "\u001b[1;31mTypeError\u001b[0m: unsupported operand type(s) for -: 'numpy.ndarray' and 'Timestamp'"
     ]
    }
   ],
   "source": [
    "data['fecha_envio_limite']-hoy"
   ]
  },
  {
   "cell_type": "markdown",
   "metadata": {},
   "source": [
    "# ¡Cuidado con el error, hay que revisar qué formato se está utlizando!"
   ]
  },
  {
   "cell_type": "code",
   "execution_count": 16,
   "metadata": {
    "scrolled": true
   },
   "outputs": [
    {
     "data": {
      "text/plain": [
       "fecha_envio_limite    object\n",
       "dtype: object"
      ]
     },
     "execution_count": 16,
     "metadata": {},
     "output_type": "execute_result"
    }
   ],
   "source": [
    "# Revisar el tipo de dato que es la columnda de fechas\n",
    "data[['fecha_envio_limite']].dtypes"
   ]
  },
  {
   "cell_type": "code",
   "execution_count": 17,
   "metadata": {},
   "outputs": [],
   "source": [
    "## Cambiar el tipo de dato\n",
    "# El tipo de dato de fecha para el lenguaje de programación es un texto, por lo tanto,\n",
    "# no se pueden realizar operaciones de ninguna, es necesario cambiar el tipo de dato\n",
    "data['fecha_envio_limite']=pd.to_datetime(data['fecha_envio_limite'])"
   ]
  },
  {
   "cell_type": "code",
   "execution_count": 18,
   "metadata": {},
   "outputs": [
    {
     "data": {
      "text/plain": [
       "fecha_envio_limite    datetime64[ns]\n",
       "dtype: object"
      ]
     },
     "execution_count": 18,
     "metadata": {},
     "output_type": "execute_result"
    }
   ],
   "source": [
    "# revisar que el tipo de dato es de fecha\n",
    "data[['fecha_envio_limite']].dtypes"
   ]
  },
  {
   "cell_type": "code",
   "execution_count": 19,
   "metadata": {
    "scrolled": true
   },
   "outputs": [
    {
     "data": {
      "text/plain": [
       "0       1471 days 09:54:08.665978\n",
       "1       1728 days 18:59:08.665978\n",
       "2       1792 days 19:51:08.665978\n",
       "3       1755 days 04:39:08.665978\n",
       "4       1474 days 16:16:08.665978\n",
       "                   ...           \n",
       "10129   1652 days 16:28:08.665978\n",
       "10130   1727 days 10:57:08.665978\n",
       "10131   1738 days 19:29:08.665978\n",
       "10132   1705 days 00:46:08.665978\n",
       "10133   1661 days 08:32:08.665978\n",
       "Name: fecha_envio_limite, Length: 10111, dtype: timedelta64[ns]"
      ]
     },
     "execution_count": 19,
     "metadata": {},
     "output_type": "execute_result"
    }
   ],
   "source": [
    "# Hacer operaciones con el tipo de dato correcto\n",
    "# como ya la columna es el tipo de dato correcto se puede hacer la resta para obtener los días\n",
    "hoy-data['fecha_envio_limite']"
   ]
  },
  {
   "cell_type": "markdown",
   "metadata": {},
   "source": [
    "**Análisis:** Es posible realizar el cálculo de la fecha hasta hoy, sin embargo, es muy importante tener en cuenta el tipo de dato que se está operando"
   ]
  },
  {
   "cell_type": "markdown",
   "metadata": {},
   "source": [
    "![Banner-Introducci-n.png](https://i.postimg.cc/VkCcqsvv/Banner-Introducci-n.png)"
   ]
  }
 ],
 "metadata": {
  "kernelspec": {
   "display_name": "Python 3 (ipykernel)",
   "language": "python",
   "name": "python3"
  },
  "language_info": {
   "codemirror_mode": {
    "name": "ipython",
    "version": 3
   },
   "file_extension": ".py",
   "mimetype": "text/x-python",
   "name": "python",
   "nbconvert_exporter": "python",
   "pygments_lexer": "ipython3",
   "version": "3.9.12"
  }
 },
 "nbformat": 4,
 "nbformat_minor": 2
}
